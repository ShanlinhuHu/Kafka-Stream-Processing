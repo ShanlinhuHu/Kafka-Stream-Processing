{
 "cells": [
  {
   "cell_type": "code",
   "execution_count": null,
   "id": "6bd097c6-f1b6-4d6d-8964-e91f108d01a9",
   "metadata": {},
   "outputs": [],
   "source": [
    "import json\n",
    "from kafka import KafkaConsumer\n",
    "from time import sleep\n",
    "from json import dumps,loads\n",
    "from s3fs import S3FileSystem"
   ]
  },
  {
   "cell_type": "code",
   "execution_count": null,
   "id": "34242db5-1798-494b-bdb3-ba6ca44bba87",
   "metadata": {},
   "outputs": [],
   "source": [
    "# create constructor for creating a Kafka consumer instance\n",
    "consumer = KafkaConsumer(\n",
    "    'Kafka_Real_Time_Data_Analysis_Covid_19_project',\n",
    "     bootstrap_servers=['3.143.226.208:9092'],\n",
    "    value_deserializer=lambda x: loads(x.decode('utf-8')))"
   ]
  },
  {
   "cell_type": "code",
   "execution_count": null,
   "id": "dc3325a4-bf1e-4df2-99b2-e64e915179e0",
   "metadata": {},
   "outputs": [],
   "source": [
    "# start consuming messages\n",
    "for c in consumer:\n",
    "    print(c.value)"
   ]
  },
  {
   "cell_type": "code",
   "execution_count": null,
   "id": "70bf8a89-facf-4eee-8793-0b1e562e2b03",
   "metadata": {},
   "outputs": [],
   "source": [
    "s3 = S3FileSystem()"
   ]
  },
  {
   "cell_type": "code",
   "execution_count": null,
   "id": "56b72c18-3128-4ce9-90d3-be84622129d3",
   "metadata": {},
   "outputs": [],
   "source": [
    "# consuming messages from Kafka topic using a Kafka consumer and writing messages to Amazon S3\n",
    "for count, i in enumerate(consumer):\n",
    "    with s3.open(\"s3://kafka-real-time-data-analysis-covid-19-shanlinhu/covid19_real_time_{}.json\".format(count), 'w') as file:\n",
    "        json.dump(i.value, file)    "
   ]
  },
  {
   "cell_type": "code",
   "execution_count": null,
   "id": "6eaa394c-a614-4df4-9dfb-3e10bc498490",
   "metadata": {},
   "outputs": [],
   "source": [
    "# close the consumer\n",
    "consumer.close()"
   ]
  }
 ],
 "metadata": {
  "kernelspec": {
   "display_name": "Python 3 (ipykernel)",
   "language": "python",
   "name": "python3"
  },
  "language_info": {
   "codemirror_mode": {
    "name": "ipython",
    "version": 3
   },
   "file_extension": ".py",
   "mimetype": "text/x-python",
   "name": "python",
   "nbconvert_exporter": "python",
   "pygments_lexer": "ipython3",
   "version": "3.11.4"
  }
 },
 "nbformat": 4,
 "nbformat_minor": 5
}
