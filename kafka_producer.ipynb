{
 "cells": [
  {
   "cell_type": "code",
   "execution_count": null,
   "id": "a05f9913-526d-4cbc-947a-777e21781de8",
   "metadata": {},
   "outputs": [],
   "source": [
    "import pandas as pd\n",
    "import json\n",
    "from kafka import KafkaProducer\n",
    "from time import sleep\n",
    "from json import dumps"
   ]
  },
  {
   "cell_type": "code",
   "execution_count": null,
   "id": "1097a30b-4c19-41bb-8d2b-1e370db1608b",
   "metadata": {},
   "outputs": [],
   "source": [
    "# create constructor for creating a Kafka producer instance\n",
    "producer = KafkaProducer(bootstrap_servers=['3.143.226.208:9092'],\n",
    "                         value_serializer=lambda x: \n",
    "                         dumps(x).encode('utf-8'))"
   ]
  },
  {
   "cell_type": "code",
   "execution_count": null,
   "id": "e0617c02-957f-40c7-8571-ca3550947ca8",
   "metadata": {},
   "outputs": [],
   "source": [
    "# use csv file simulate the real time data from API\n",
    "covid_df = pd.read_csv(\"Covid-19_Data_USA_2023.csv\")"
   ]
  },
  {
   "cell_type": "code",
   "execution_count": null,
   "id": "67a1018b-b13e-4d37-aed8-37d8dc3131d7",
   "metadata": {},
   "outputs": [],
   "source": [
    "covid_df.head()"
   ]
  },
  {
   "cell_type": "code",
   "execution_count": null,
   "id": "eac12e04-2a0a-4f21-9b0d-f4b9ff67dc7f",
   "metadata": {},
   "outputs": [],
   "source": [
    "# generates random data from df and sends it to the Kafka topic simulating real time streams\n",
    "while True:\n",
    "    dict_stock = covid_df.sample(1).to_dict(orient=\"records\")[0]\n",
    "    producer.send('Kafka_Real_Time_Data_Analysis_Covid_19_project', value=dict_stock)\n",
    "    sleep(1)"
   ]
  },
  {
   "cell_type": "code",
   "execution_count": null,
   "id": "e9a47e02-ec51-41b3-bc38-c60cf351b724",
   "metadata": {},
   "outputs": [],
   "source": [
    "# clear data from Kafka server\n",
    "producer.flush()"
   ]
  },
  {
   "cell_type": "code",
   "execution_count": null,
   "id": "f47e5b2a-1bda-4345-a774-4c9caae15ccd",
   "metadata": {},
   "outputs": [],
   "source": [
    "# close the producer\n",
    "producer.close()"
   ]
  }
 ],
 "metadata": {
  "kernelspec": {
   "display_name": "Python 3 (ipykernel)",
   "language": "python",
   "name": "python3"
  },
  "language_info": {
   "codemirror_mode": {
    "name": "ipython",
    "version": 3
   },
   "file_extension": ".py",
   "mimetype": "text/x-python",
   "name": "python",
   "nbconvert_exporter": "python",
   "pygments_lexer": "ipython3",
   "version": "3.11.4"
  }
 },
 "nbformat": 4,
 "nbformat_minor": 5
}
